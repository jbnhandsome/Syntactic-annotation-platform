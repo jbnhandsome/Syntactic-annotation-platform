{
 "cells": [
  {
   "cell_type": "code",
   "execution_count": 117,
   "metadata": {},
   "outputs": [],
   "source": [
    "import spacy\n",
    "from spacy import displacy\n",
    "import os\n",
    "from graphviz import Digraph\n",
    "from spacy.vocab import Vocab\n",
    "from spacy.tokens import Doc\n",
    "from pathlib import Path\n",
    "\n",
    "nlp = spacy.load(\"zh_core_web_sm\")"
   ]
  },
  {
   "cell_type": "code",
   "execution_count": 31,
   "metadata": {},
   "outputs": [],
   "source": [
    "class Conll_8best_Read():\n",
    "    def __init__(self,dataset):\n",
    "        self.dataset=dataset\n",
    "    #这个函数没测试过 不过多个的没问题，这个应该也没啥问题\n",
    "    def read_single_file(self,file_path,file_name):\n",
    "        #path = E:\\\\baiduyunxiazai\\\\zx\n",
    "        #file_path = \"E:\\\\baiduyunxiazai\\\\zx\\\\top1\\\\notMatch.1\"\n",
    "        paths=['top1','top2','top3','top4','top5','top6','top7','top8']\n",
    "        #file_path = \"E:\\\\baiduyunxiazai\\\\zx\\\\top1\\\\notMatch.1\"\n",
    "        #file_path+paths[j]+notMatch.alldata\n",
    "        file = os.path.join(file_path,paths[0],file_name)\n",
    "        with open(file,'r', encoding='utf-8') as fb:\n",
    "            for line in fb:\n",
    "                line = line.strip('\\n') \n",
    "                if line:\n",
    "                    self.dataset.append(line.split('\\t'))\n",
    "                else:\n",
    "                    self.dataset.append([])\n",
    "        return self.dataset\n",
    "         \n",
    "    def read_mul_file(self,file_path,file_name):\n",
    "        #一共973句话 算上']'\n",
    "        #path = E:\\\\baiduyunxiazai\\\\zx\n",
    "        paths=['top1','top2','top3','top4','top5','top6','top7','top8']\n",
    "        #file_path = \"E:\\\\baiduyunxiazai\\\\zx\\\\top1\\\\notMatch.1\"\n",
    "        for j in range(8):\n",
    "            #file_path+paths[j]+notMatch.alldata\n",
    "            file = os.path.join(file_path,paths[j],file_name)\n",
    "            print(file)\n",
    "            with open(file,'r', encoding='utf-8') as fb:\n",
    "                for line in fb:\n",
    "                    line = line.strip('\\n') \n",
    "                    if line:\n",
    "                        self.dataset.append(line.split('\\t'))\n",
    "                    else:\n",
    "                        self.dataset.append([])\n",
    "        return self.dataset\n",
    "         \n",
    "\n",
    "class Sentence(object):\n",
    "    def __init__(self):\n",
    "        self.sen = \"\" #用来判断句子是否相同\n",
    "        self.idx= [] #存每一个单词的序号\n",
    "        self.word = [] #存每一个单词\n",
    "        self.tag = [] #存储标签\n",
    "        self.dep = [] #存储依赖\n",
    "        self.rel = [] #依赖关系\n",
    "        self.Arc={} #字典\n",
    "        self.special_name=[]\n",
    "        \n",
    "    def equal(self,a,b):\n",
    "        if a == b:\n",
    "            return True\n",
    "        else:\n",
    "            return False\n",
    "    def dep_tree(self):\n",
    "        #这里面把所有的弧都取出来\n",
    "        for i in range(len(self.word)):\n",
    "            if self.dep[i] == '0':\n",
    "                self.Arc[self.special_name[i]] = 'root'\n",
    "            else:\n",
    "                for j in range(len(self.word)):\n",
    "                    if self.idx[j] == self.dep[i]:\n",
    "                        self.Arc[self.special_name[i]] = self.special_name[j]\n",
    "                \n",
    "            \n"
   ]
  },
  {
   "cell_type": "code",
   "execution_count": 32,
   "metadata": {},
   "outputs": [],
   "source": [
    "def load_data_conll(dataset):\n",
    "    Sen = Sentence()\n",
    "    sente = [Sentence() for i in range(1)]\n",
    "    for i in range(len(dataset)):\n",
    "        if dataset[i]:\n",
    "            Sen.sen = Sen.sen + dataset[i][1]\n",
    "            Sen.word.append(dataset[i][1])\n",
    "            Sen.idx.append(dataset[i][0])\n",
    "            Sen.tag.append(dataset[i][3])\n",
    "            Sen.dep.append(dataset[i][6])\n",
    "            Sen.rel.append(dataset[i][7])\n",
    "            Sen.special_name.append(str(dataset[i][0])+'|'+str(dataset[i][1]+'|'+str(dataset[i][3])))\n",
    "        else:\n",
    "            Sen.dep_tree()\n",
    "            sente.append(Sen)\n",
    "            Sen = Sentence()\n",
    "    del(sente[0])\n",
    "    print(sente[0].sen)\n",
    "    return sente\n",
    "\n",
    "def find_sent(sen):\n",
    "    se = set() #存储所有已经出现了的句子\n",
    "    dic = {\"\":[]} #为每个句子存储所有它的index\n",
    "    for i in range(len(sen)):\n",
    "        if sen[i].sen not in se:\n",
    "            dic[sen[i].sen]=[i] #为每个句子建立一个空集合\n",
    "        else:\n",
    "            continue #这个句子我们就不统计了 进行一个值的跳过\n",
    "        \n",
    "        for j in range(i+1,len(sen)):\n",
    "            if sen[j].sen not in se and sen[i].sen == sen[j].sen: \n",
    "                dic[sen[i].sen].append(j)\n",
    "        se.add(sen[i].sen)\n",
    "    del(dic[\"\"])\n",
    "    return se,dic\n",
    "\n",
    "#生成graphiz类型的dependency_tree树\n",
    "def generate_DPtree_graphiz(sen,st,dic):\n",
    "    #sen是所有句子的集合，str是\n",
    "    #我们需要为每一个句子生成一棵树，这里的话我们可以选择生成那个句子的树\n",
    "    name = []\n",
    "    for i in dic[st]:\n",
    "        g = Digraph('依存树'+str(i),format='png')\n",
    "        g.node(name='root')\n",
    "        #需要让根节点指向0的位置\n",
    "        for j in range(len(sen[i].word)):\n",
    "            #如果需要添加词的属性需要加上下边这一行，否则就不需要\n",
    "            #name.append(str(sen[i].word[j])+'|'+str(sen[i].tag[j]))\n",
    "            g.node(sen[i].special_name[j],fontname=\"Microsoft YaHei\")\n",
    "        for j in range(len(sen[i].word)):\n",
    "            if sen[i].rel[j]=='root':\n",
    "                g.edge('root',sen[i].special_name[j],label=str(sen[i].dep[j]))\n",
    "                \n",
    "            else:\n",
    "                g.edge(sen[i].Arc[sen[i].special_name[j]],sen[i].special_name[j],label=str(sen[i].rel[j]))\n",
    "       # g.view()"
   ]
  },
  {
   "cell_type": "code",
   "execution_count": 33,
   "metadata": {},
   "outputs": [
    {
     "name": "stdout",
     "output_type": "stream",
     "text": [
      "E:/baiduyunxiazai/zx/top1\\notMatch.alldata\n",
      "E:/baiduyunxiazai/zx/top2\\notMatch.alldata\n",
      "E:/baiduyunxiazai/zx/top3\\notMatch.alldata\n",
      "E:/baiduyunxiazai/zx/top4\\notMatch.alldata\n",
      "E:/baiduyunxiazai/zx/top5\\notMatch.alldata\n",
      "E:/baiduyunxiazai/zx/top6\\notMatch.alldata\n",
      "E:/baiduyunxiazai/zx/top7\\notMatch.alldata\n",
      "E:/baiduyunxiazai/zx/top8\\notMatch.alldata\n",
      "」\n"
     ]
    }
   ],
   "source": [
    "file_path=\"E:/baiduyunxiazai/zx/\"\n",
    "fila_name=\"notMatch.alldata\"\n",
    "dataset=[]\n",
    "data = Conll_8best_Read(dataset)\n",
    "dataset = data.read_mul_file(file_path,fila_name)\n",
    "sen = load_data_conll(dataset)\n",
    "se,dic = find_sent(sen)\n",
    "generate_DPtree_graphiz(sen,\"只不过，在这之后，张小凡也感觉到，从绑在自己右手臂膀上的那个奇异法宝，却似乎散发着与烧火棍相反的，带着一丝温暖的气息，传进自己的身体。\",dic)"
   ]
  },
  {
   "cell_type": "code",
   "execution_count": 34,
   "metadata": {},
   "outputs": [
    {
     "name": "stdout",
     "output_type": "stream",
     "text": [
      "[161, 562, 963, 1364, 1765, 2166, 2567, 2968]\n",
      "只不过，在这之后，张小凡也感觉到，从绑在自己右手臂膀上的那个奇异法宝，却似乎散发着与烧火棍相反的，带着一丝温暖的气息，传进自己的身体。\n"
     ]
    }
   ],
   "source": [
    "print(dic[\"只不过，在这之后，张小凡也感觉到，从绑在自己右手臂膀上的那个奇异法宝，却似乎散发着与烧火棍相反的，带着一丝温暖的气息，传进自己的身体。\"])\n",
    "print(sen[161].sen)"
   ]
  },
  {
   "cell_type": "code",
   "execution_count": 115,
   "metadata": {},
   "outputs": [],
   "source": [
    "\n",
    "def transfer2spacy(sen):\n",
    "    for i in range(25,30):\n",
    "        #vocab = Vocab(sen[i].word)\n",
    "        #doc=Doc(vocab=vocab)\n",
    "        #转到spacy出现了一个问题，现在的结构没有存第一个root元素，这不是很好，嘶\n",
    "        #head = ['root']\n",
    "        head = [None]\n",
    "        tag = ['PU']\n",
    "        dep = ['']\n",
    "        word = ['ROOT']\n",
    "        for j in range(len(sen[i].word)):\n",
    "            #print(sen[i].dep[j],sen[i].idx[j])\n",
    "            head.append(int(sen[i].dep[j]))\n",
    "            word.append(sen[i].word[j])\n",
    "            dep.append(sen[i].rel[j])\n",
    "            tag.append(sen[i].tag[j])\n",
    "        doc = Doc(nlp.vocab,words=word,tags=tag,deps=dep,heads=head)\n",
    "        displacy.render(doc, style='dep', options = {'distance': 100})\n",
    "        for token in doc:\n",
    "            print(token.idx,token.text,token.tag_,token.dep_,token.head) # 解释标注\n",
    "#生成svg图像 没仔细研究\n",
    "def generate_svg_image(path):\n",
    "    output_path = Path(\"yourpath/.svg\")\n",
    "    svg = displacy.render(doc, style='dep')\n",
    "    with output_path.open(\"w\", encoding=\"utf-8\") as fh:\n",
    "        fh.write(svg)\n"
   ]
  },
  {
   "cell_type": "code",
   "execution_count": 116,
   "metadata": {},
   "outputs": [
    {
     "data": {
      "text/html": [
       "<span class=\"tex2jax_ignore\"><svg xmlns=\"http://www.w3.org/2000/svg\" xmlns:xlink=\"http://www.w3.org/1999/xlink\" xml:lang=\"zh\" id=\"5f3a7d85efc34efc8f69e53e5e0e5965-0\" class=\"displacy\" width=\"150\" height=\"137.0\" direction=\"ltr\" style=\"max-width: none; height: 137.0px; color: #000000; background: #ffffff; font-family: Arial; direction: ltr\">\n",
       "<text class=\"displacy-token\" fill=\"currentColor\" text-anchor=\"middle\" y=\"47.0\">\n",
       "    <tspan class=\"displacy-word\" fill=\"currentColor\" x=\"50\">word 」</tspan>\n",
       "    <tspan class=\"displacy-tag\" dy=\"2em\" fill=\"currentColor\" x=\"50\"></tspan>\n",
       "</text>\n",
       "</svg></span>"
      ],
      "text/plain": [
       "<IPython.core.display.HTML object>"
      ]
     },
     "metadata": {},
     "output_type": "display_data"
    },
    {
     "name": "stdout",
     "output_type": "stream",
     "text": [
      "0 word PU  word\n",
      "5 」 PU root word\n"
     ]
    },
    {
     "data": {
      "text/html": [
       "<span class=\"tex2jax_ignore\"><svg xmlns=\"http://www.w3.org/2000/svg\" xmlns:xlink=\"http://www.w3.org/1999/xlink\" xml:lang=\"zh\" id=\"afabece118354865ac32d723129f1f5a-0\" class=\"displacy\" width=\"450\" height=\"237.0\" direction=\"ltr\" style=\"max-width: none; height: 237.0px; color: #000000; background: #ffffff; font-family: Arial; direction: ltr\">\n",
       "<text class=\"displacy-token\" fill=\"currentColor\" text-anchor=\"middle\" y=\"147.0\">\n",
       "    <tspan class=\"displacy-word\" fill=\"currentColor\" x=\"50\">word</tspan>\n",
       "    <tspan class=\"displacy-tag\" dy=\"2em\" fill=\"currentColor\" x=\"50\"></tspan>\n",
       "</text>\n",
       "\n",
       "<text class=\"displacy-token\" fill=\"currentColor\" text-anchor=\"middle\" y=\"147.0\">\n",
       "    <tspan class=\"displacy-word\" fill=\"currentColor\" x=\"150\">第一</tspan>\n",
       "    <tspan class=\"displacy-tag\" dy=\"2em\" fill=\"currentColor\" x=\"150\"></tspan>\n",
       "</text>\n",
       "\n",
       "<text class=\"displacy-token\" fill=\"currentColor\" text-anchor=\"middle\" y=\"147.0\">\n",
       "    <tspan class=\"displacy-word\" fill=\"currentColor\" x=\"250\">章</tspan>\n",
       "    <tspan class=\"displacy-tag\" dy=\"2em\" fill=\"currentColor\" x=\"250\"></tspan>\n",
       "</text>\n",
       "\n",
       "<text class=\"displacy-token\" fill=\"currentColor\" text-anchor=\"middle\" y=\"147.0\">\n",
       "    <tspan class=\"displacy-word\" fill=\"currentColor\" x=\"350\">隐忧</tspan>\n",
       "    <tspan class=\"displacy-tag\" dy=\"2em\" fill=\"currentColor\" x=\"350\"></tspan>\n",
       "</text>\n",
       "\n",
       "<g class=\"displacy-arrow\">\n",
       "    <path class=\"displacy-arc\" id=\"arrow-afabece118354865ac32d723129f1f5a-0-0\" stroke-width=\"2px\" d=\"M170,102.0 C170,52.0 245.0,52.0 245.0,102.0\" fill=\"none\" stroke=\"currentColor\"/>\n",
       "    <text dy=\"1.25em\" style=\"font-size: 0.8em; letter-spacing: 1px\">\n",
       "        <textPath xlink:href=\"#arrow-afabece118354865ac32d723129f1f5a-0-0\" class=\"displacy-label\" startOffset=\"50%\" side=\"left\" fill=\"currentColor\" text-anchor=\"middle\">att</textPath>\n",
       "    </text>\n",
       "    <path class=\"displacy-arrowhead\" d=\"M170,104.0 L162,92.0 178,92.0\" fill=\"currentColor\"/>\n",
       "</g>\n",
       "\n",
       "<g class=\"displacy-arrow\">\n",
       "    <path class=\"displacy-arc\" id=\"arrow-afabece118354865ac32d723129f1f5a-0-1\" stroke-width=\"2px\" d=\"M270,102.0 C270,52.0 345.0,52.0 345.0,102.0\" fill=\"none\" stroke=\"currentColor\"/>\n",
       "    <text dy=\"1.25em\" style=\"font-size: 0.8em; letter-spacing: 1px\">\n",
       "        <textPath xlink:href=\"#arrow-afabece118354865ac32d723129f1f5a-0-1\" class=\"displacy-label\" startOffset=\"50%\" side=\"left\" fill=\"currentColor\" text-anchor=\"middle\">att</textPath>\n",
       "    </text>\n",
       "    <path class=\"displacy-arrowhead\" d=\"M270,104.0 L262,92.0 278,92.0\" fill=\"currentColor\"/>\n",
       "</g>\n",
       "\n",
       "<g class=\"displacy-arrow\">\n",
       "    <path class=\"displacy-arc\" id=\"arrow-afabece118354865ac32d723129f1f5a-0-2\" stroke-width=\"2px\" d=\"M70,102.0 C70,2.0 350.0,2.0 350.0,102.0\" fill=\"none\" stroke=\"currentColor\"/>\n",
       "    <text dy=\"1.25em\" style=\"font-size: 0.8em; letter-spacing: 1px\">\n",
       "        <textPath xlink:href=\"#arrow-afabece118354865ac32d723129f1f5a-0-2\" class=\"displacy-label\" startOffset=\"50%\" side=\"left\" fill=\"currentColor\" text-anchor=\"middle\">root</textPath>\n",
       "    </text>\n",
       "    <path class=\"displacy-arrowhead\" d=\"M350.0,104.0 L358.0,92.0 342.0,92.0\" fill=\"currentColor\"/>\n",
       "</g>\n",
       "</svg></span>"
      ],
      "text/plain": [
       "<IPython.core.display.HTML object>"
      ]
     },
     "metadata": {},
     "output_type": "display_data"
    },
    {
     "name": "stdout",
     "output_type": "stream",
     "text": [
      "0 word PU  word\n",
      "5 第一 OD att 章\n",
      "8 章 M att 隐忧\n",
      "10 隐忧 NN root word\n"
     ]
    },
    {
     "data": {
      "text/html": [
       "<span class=\"tex2jax_ignore\"><svg xmlns=\"http://www.w3.org/2000/svg\" xmlns:xlink=\"http://www.w3.org/1999/xlink\" xml:lang=\"zh\" id=\"88c89f2a9d0d41849604358ab2d73204-0\" class=\"displacy\" width=\"150\" height=\"137.0\" direction=\"ltr\" style=\"max-width: none; height: 137.0px; color: #000000; background: #ffffff; font-family: Arial; direction: ltr\">\n",
       "<text class=\"displacy-token\" fill=\"currentColor\" text-anchor=\"middle\" y=\"47.0\">\n",
       "    <tspan class=\"displacy-word\" fill=\"currentColor\" x=\"50\">word 」</tspan>\n",
       "    <tspan class=\"displacy-tag\" dy=\"2em\" fill=\"currentColor\" x=\"50\"></tspan>\n",
       "</text>\n",
       "</svg></span>"
      ],
      "text/plain": [
       "<IPython.core.display.HTML object>"
      ]
     },
     "metadata": {},
     "output_type": "display_data"
    },
    {
     "name": "stdout",
     "output_type": "stream",
     "text": [
      "0 word PU  word\n",
      "5 」 PU root word\n"
     ]
    },
    {
     "data": {
      "text/html": [
       "<span class=\"tex2jax_ignore\"><svg xmlns=\"http://www.w3.org/2000/svg\" xmlns:xlink=\"http://www.w3.org/1999/xlink\" xml:lang=\"zh\" id=\"f9cc2aeff2104983b909381b73eab217-0\" class=\"displacy\" width=\"450\" height=\"237.0\" direction=\"ltr\" style=\"max-width: none; height: 237.0px; color: #000000; background: #ffffff; font-family: Arial; direction: ltr\">\n",
       "<text class=\"displacy-token\" fill=\"currentColor\" text-anchor=\"middle\" y=\"147.0\">\n",
       "    <tspan class=\"displacy-word\" fill=\"currentColor\" x=\"50\">word</tspan>\n",
       "    <tspan class=\"displacy-tag\" dy=\"2em\" fill=\"currentColor\" x=\"50\"></tspan>\n",
       "</text>\n",
       "\n",
       "<text class=\"displacy-token\" fill=\"currentColor\" text-anchor=\"middle\" y=\"147.0\">\n",
       "    <tspan class=\"displacy-word\" fill=\"currentColor\" x=\"150\">只</tspan>\n",
       "    <tspan class=\"displacy-tag\" dy=\"2em\" fill=\"currentColor\" x=\"150\"></tspan>\n",
       "</text>\n",
       "\n",
       "<text class=\"displacy-token\" fill=\"currentColor\" text-anchor=\"middle\" y=\"147.0\">\n",
       "    <tspan class=\"displacy-word\" fill=\"currentColor\" x=\"250\">有</tspan>\n",
       "    <tspan class=\"displacy-tag\" dy=\"2em\" fill=\"currentColor\" x=\"250\"></tspan>\n",
       "</text>\n",
       "\n",
       "<text class=\"displacy-token\" fill=\"currentColor\" text-anchor=\"middle\" y=\"147.0\">\n",
       "    <tspan class=\"displacy-word\" fill=\"currentColor\" x=\"350\">风声 ！</tspan>\n",
       "    <tspan class=\"displacy-tag\" dy=\"2em\" fill=\"currentColor\" x=\"350\"></tspan>\n",
       "</text>\n",
       "\n",
       "<g class=\"displacy-arrow\">\n",
       "    <path class=\"displacy-arc\" id=\"arrow-f9cc2aeff2104983b909381b73eab217-0-0\" stroke-width=\"2px\" d=\"M170,102.0 C170,52.0 245.0,52.0 245.0,102.0\" fill=\"none\" stroke=\"currentColor\"/>\n",
       "    <text dy=\"1.25em\" style=\"font-size: 0.8em; letter-spacing: 1px\">\n",
       "        <textPath xlink:href=\"#arrow-f9cc2aeff2104983b909381b73eab217-0-0\" class=\"displacy-label\" startOffset=\"50%\" side=\"left\" fill=\"currentColor\" text-anchor=\"middle\">adv</textPath>\n",
       "    </text>\n",
       "    <path class=\"displacy-arrowhead\" d=\"M170,104.0 L162,92.0 178,92.0\" fill=\"currentColor\"/>\n",
       "</g>\n",
       "\n",
       "<g class=\"displacy-arrow\">\n",
       "    <path class=\"displacy-arc\" id=\"arrow-f9cc2aeff2104983b909381b73eab217-0-1\" stroke-width=\"2px\" d=\"M70,102.0 C70,2.0 250.0,2.0 250.0,102.0\" fill=\"none\" stroke=\"currentColor\"/>\n",
       "    <text dy=\"1.25em\" style=\"font-size: 0.8em; letter-spacing: 1px\">\n",
       "        <textPath xlink:href=\"#arrow-f9cc2aeff2104983b909381b73eab217-0-1\" class=\"displacy-label\" startOffset=\"50%\" side=\"left\" fill=\"currentColor\" text-anchor=\"middle\">root</textPath>\n",
       "    </text>\n",
       "    <path class=\"displacy-arrowhead\" d=\"M250.0,104.0 L258.0,92.0 242.0,92.0\" fill=\"currentColor\"/>\n",
       "</g>\n",
       "\n",
       "<g class=\"displacy-arrow\">\n",
       "    <path class=\"displacy-arc\" id=\"arrow-f9cc2aeff2104983b909381b73eab217-0-2\" stroke-width=\"2px\" d=\"M270,102.0 C270,52.0 345.0,52.0 345.0,102.0\" fill=\"none\" stroke=\"currentColor\"/>\n",
       "    <text dy=\"1.25em\" style=\"font-size: 0.8em; letter-spacing: 1px\">\n",
       "        <textPath xlink:href=\"#arrow-f9cc2aeff2104983b909381b73eab217-0-2\" class=\"displacy-label\" startOffset=\"50%\" side=\"left\" fill=\"currentColor\" text-anchor=\"middle\">obj</textPath>\n",
       "    </text>\n",
       "    <path class=\"displacy-arrowhead\" d=\"M345.0,104.0 L353.0,92.0 337.0,92.0\" fill=\"currentColor\"/>\n",
       "</g>\n",
       "</svg></span>"
      ],
      "text/plain": [
       "<IPython.core.display.HTML object>"
      ]
     },
     "metadata": {},
     "output_type": "display_data"
    },
    {
     "name": "stdout",
     "output_type": "stream",
     "text": [
      "0 word PU  word\n",
      "5 只 AD adv 有\n",
      "7 有 VE root word\n",
      "9 风声 NN obj 有\n",
      "12 ！ PU punc 有\n"
     ]
    },
    {
     "data": {
      "text/html": [
       "<span class=\"tex2jax_ignore\"><svg xmlns=\"http://www.w3.org/2000/svg\" xmlns:xlink=\"http://www.w3.org/1999/xlink\" xml:lang=\"zh\" id=\"4c3fd8c1af2a4ffaa6e74fcf1654e4ef-0\" class=\"displacy\" width=\"150\" height=\"137.0\" direction=\"ltr\" style=\"max-width: none; height: 137.0px; color: #000000; background: #ffffff; font-family: Arial; direction: ltr\">\n",
       "<text class=\"displacy-token\" fill=\"currentColor\" text-anchor=\"middle\" y=\"47.0\">\n",
       "    <tspan class=\"displacy-word\" fill=\"currentColor\" x=\"50\">word 」</tspan>\n",
       "    <tspan class=\"displacy-tag\" dy=\"2em\" fill=\"currentColor\" x=\"50\"></tspan>\n",
       "</text>\n",
       "</svg></span>"
      ],
      "text/plain": [
       "<IPython.core.display.HTML object>"
      ]
     },
     "metadata": {},
     "output_type": "display_data"
    },
    {
     "name": "stdout",
     "output_type": "stream",
     "text": [
      "0 word PU  word\n",
      "5 」 PU root word\n"
     ]
    }
   ],
   "source": [
    "transfer2spacy(sen)"
   ]
  },
  {
   "cell_type": "code",
   "execution_count": null,
   "metadata": {},
   "outputs": [],
   "source": []
  },
  {
   "cell_type": "code",
   "execution_count": null,
   "metadata": {},
   "outputs": [],
   "source": []
  }
 ],
 "metadata": {
  "interpreter": {
   "hash": "748dbdca4f5d9507dbf5438deb9fb0c5af4d959a1362599ffdf2eaf1f99424f2"
  },
  "kernelspec": {
   "display_name": "Python 3.7.10 64-bit ('pytorch': conda)",
   "language": "python",
   "name": "python3"
  },
  "language_info": {
   "codemirror_mode": {
    "name": "ipython",
    "version": 3
   },
   "file_extension": ".py",
   "mimetype": "text/x-python",
   "name": "python",
   "nbconvert_exporter": "python",
   "pygments_lexer": "ipython3",
   "version": "3.7.10"
  },
  "orig_nbformat": 4
 },
 "nbformat": 4,
 "nbformat_minor": 2
}
